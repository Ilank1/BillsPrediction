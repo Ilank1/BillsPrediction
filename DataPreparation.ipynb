{
  "cells": [
    {
      "cell_type": "markdown",
      "metadata": {
        "id": "view-in-github",
        "colab_type": "text"
      },
      "source": [
        "<a href=\"https://colab.research.google.com/github/Ilank1/BillsPrediction/blob/main/DataPreparation.ipynb\" target=\"_parent\"><img src=\"https://colab.research.google.com/assets/colab-badge.svg\" alt=\"Open In Colab\"/></a>"
      ]
    },
    {
      "cell_type": "code",
      "execution_count": null,
      "id": "4d00be79",
      "metadata": {
        "id": "4d00be79"
      },
      "outputs": [],
      "source": [
        "import pandas as pd\n",
        "import re, os, wget\n",
        "from docx import Document"
      ]
    },
    {
      "cell_type": "code",
      "execution_count": null,
      "id": "36968107",
      "metadata": {
        "id": "36968107"
      },
      "outputs": [],
      "source": [
        "passed_status = 118\n",
        "\n",
        "SubTypeOptions = {\"ועדה\":0, \n",
        "       \"פרטית\":1,\n",
        "       \"ממשלתית\":2}\n",
        "\n",
        "documents_db_path = r\"KNS_DocumentBill.csv\"\n",
        "documents_dir = r\"Bills\"\n",
        "db_Bill_path = r\"KNS_Bill.csv\""
      ]
    },
    {
      "cell_type": "markdown",
      "id": "4580a5c0",
      "metadata": {
        "id": "4580a5c0"
      },
      "source": [
        "Download all the documents of the bills from the govermental OData API\n",
        "http://knesset.gov.il/Odata/ParliamentInfo.svc/\n",
        "\n",
        "We've dumped the following tables for preparing the data \n",
        "KNS_DocumentBill - For the documents\n",
        "KNS_Bill - For bills info"
      ]
    },
    {
      "cell_type": "code",
      "execution_count": null,
      "id": "2dd27933",
      "metadata": {
        "id": "2dd27933"
      },
      "outputs": [],
      "source": [
        "df_documents = pd.read_csv(documens_db_path, encoding='utf-8-sig')"
      ]
    },
    {
      "cell_type": "code",
      "execution_count": null,
      "id": "bdb9424b",
      "metadata": {
        "id": "bdb9424b"
      },
      "outputs": [],
      "source": [
        "for index, row in df_documents.iterrows():\n",
        "    # Download only DOC files (doc or docx) and initial suggestion type of documents(type 1)\n",
        "    if row[\"ApplicationDesc\"] == \"DOC\" and row[\"GroupTypeID\"] == 1:\n",
        "        file_name = wget.filename_from_url(row[\"FilePath\"])\n",
        "\n",
        "        file_path = os.path.join(documents_dir, file_name)\n",
        "        \n",
        "        # Download non-existing files\n",
        "        if os.path.isfile(file_path):\n",
        "            continue\n",
        "        else:\n",
        "            file_name = wget.download(row[\"FilePath\"])\n",
        "            print(\" : \" + file_name)\n",
        "\n",
        "print(\"Finished download\")"
      ]
    },
    {
      "cell_type": "code",
      "execution_count": null,
      "id": "b486f742",
      "metadata": {
        "id": "b486f742"
      },
      "outputs": [],
      "source": [
        "def get_bill_text(bill_id):\n",
        "    bill_df = df_documents.loc[df_documents['BillID'] == bill_id]\n",
        "    if len(bill_df) == 0:\n",
        "        raise Exception(\"No documents found for bill id {}\".format(bill_id))\n",
        "    for i, r in bill_df.iterrows():\n",
        "        \n",
        "        # Use only DOC documents, those are the only type of documents we've downloaded\n",
        "        if r[\"ApplicationDesc\"] != \"DOC\":\n",
        "            raise Exception(\"Bill document type {} not supported, only DOC supported\".format(r[\"ApplicationDesc\"]))\n",
        "        \n",
        "        # Use only type 1 documents, those are the only type of documents we've downloaded\n",
        "        if r[\"GroupTypeID\"] != 1:\n",
        "            raise Exception(\"Bill GroupTypeID {} not supported, only initial suggesstions are allowed\".format(r[\"GroupTypeID\"]))\n",
        "        \n",
        "        file_path = os.path.join(documents_dir, wget.filename_from_url(r[\"FilePath\"]))\n",
        "        if not os.path.isfile(file_path):\n",
        "            raise Exception(\"Bill document {} doesn't exists in the directory, web path {}\".format(file_path, r[\"FilePath\"]))\n",
        "        \n",
        "        return extract_bill_explanation(file_path)\n",
        "    "
      ]
    },
    {
      "cell_type": "code",
      "execution_count": null,
      "id": "08d49755",
      "metadata": {
        "id": "08d49755"
      },
      "outputs": [],
      "source": [
        "def extract_bill_explanation(file_path):\n",
        "    text = \"\"\n",
        "    document = Document(file_path)\n",
        "\n",
        "    start_ind = [i for i, para in enumerate(document.paragraphs) if (('דברי הסבר' in para.text) or ('דברי  הסבר' in para.text) or ('ד ב ר י   ה ס ב ר' in para.text))]\n",
        "    if len(start_ind) == 0:\n",
        "            raise Exception(\"No Explanataion paragraph headline found\")\n",
        "    if len(start_ind) > 1:\n",
        "        raise Exception(\"More than one Explanataion paragraph headline found\")\n",
        "    else:\n",
        "        start_ind = start_ind[0]\n",
        "\n",
        "    end_ind = [i for i, para in enumerate(document.paragraphs) if '---' in para.text]\n",
        "    if len(end_ind) == 0:\n",
        "        raise Exception(\"No Explanataion paragraph headline found\")\n",
        "    if len(end_ind) > 1:\n",
        "        raise Exception(\"More than one Explanataion paragraph end marker found\")\n",
        "    else:\n",
        "        end_ind = end_ind[0]\n",
        "    \n",
        "    if start_ind and end_ind:\n",
        "        for i, para in enumerate(document.paragraphs):\n",
        "            if i > start_ind  and i < end_ind :\n",
        "                 text += para.text + \"\\r\\n\"\n",
        "    return text"
      ]
    },
    {
      "cell_type": "code",
      "execution_count": null,
      "id": "0612a9dd",
      "metadata": {
        "id": "0612a9dd"
      },
      "outputs": [],
      "source": [
        "df_bills = pd.read_csv(db_Bill_path, encoding='utf-8-sig')\n",
        "\n",
        "outout_df = pd.DataFrame(columns=['label', 'data','InitiatorType','cont_bit', 'bill_id'])\n",
        "\n",
        "for index, row in df_bills.iterrows():\n",
        "    try:\n",
        "                                       \n",
        "        current_bill = {'label': row[\"StatusID\"] == passed_status, \n",
        "                        'data': get_bill_text(),\n",
        "                        'InitiatorType': SubTypeOptions[row[\"SubTypeDesc\"]],\n",
        "                        'cont_bit': row[\"IsContinuationBill\"],\n",
        "                        'bill_id': row[\"BillID\"]}\n",
        "        \n",
        "        outout_df = outout_df.append(current_bill,ignore_index=True)\n",
        "    except Exception as e: \n",
        "        print(e)\n",
        "        print(\"Failed bill id: \", row[\"BillID\"])\n",
        "\n",
        "outout_df.replace({False: 0, True: 1}, inplace=True)\n",
        "\n",
        "outout_df.to_excel(r\"output.xlsx\") \n",
        "\n",
        "print(\"Finish\")"
      ]
    },
    {
      "cell_type": "markdown",
      "id": "536c53a2",
      "metadata": {
        "id": "536c53a2"
      },
      "source": [
        "Final stats regarding the data: "
      ]
    },
    {
      "cell_type": "code",
      "execution_count": null,
      "id": "c21a4db9",
      "metadata": {
        "id": "c21a4db9"
      },
      "outputs": [],
      "source": [
        "all_bills = r\"output.xlsx\"\n",
        "df_all_bills = pd.read_excel(all_bills)\n",
        "\n",
        "total = len(df_all_bills)\n",
        "print(\"Total: \", total)\n",
        "\n",
        "print(\"All extracted bills: \", len(df_all_bills))\n",
        "\n",
        "df_bills_cont = df_all_bills.loc[df_all_bills[\"IsContinuationBill\"] == 1]\n",
        "print(\"Continuation bit on \", len(df_bills_cont))\n",
        "\n",
        "df_bills_notcont = df_all_bills.loc[df_all_bills[\"IsContinuationBill\"] == 0]\n",
        "print(\"Continuation bit off \", len(df_bills_notcont))\n",
        "\n",
        "df_bills_com = df_all_bills.loc[df_all_bills[\"SubTypeDesc\"] == \"ועדה\"]\n",
        "print(\"Committee bills: \", len(df_bills_com))\n",
        "\n",
        "df_bills_gov = df_all_bills.loc[df_all_bills[\"SubTypeDesc\"] == \"ממשלתית\"]\n",
        "print(\"Govermental bills: \", len(df_bills_gov))\n",
        "\n",
        "df_bills_private = df_all_bills.loc[df_all_bills[\"SubTypeDesc\"] == \"פרטית\"]\n",
        "print(\"Private bills: \", len(df_bills_private))\n",
        "\n",
        "\n",
        "df_all_bills = df_all_bills.loc[df_all_bills[\"StatusID\"] == passed_status]\n",
        "print(\"Passed: \" ,len(df_bills))\n",
        "\n",
        "df_bills_cont = df_all_bills.loc[df_all_bills[\"IsContinuationBill\"] == 1]\n",
        "print(\"Continuation bit on \", len(df_bills_cont))\n",
        "\n",
        "df_bills_notcont = df_all_bills.loc[df_all_bills[\"IsContinuationBill\"] == 0]\n",
        "print(\"Continuation bit off \", len(df_bills_notcont))\n",
        "\n",
        "df_bills_com = df_all_bills.loc[df_all_bills[\"SubTypeDesc\"] == \"ועדה\"]\n",
        "print(\"Committee bills: \", len(df_bills_com))\n",
        "\n",
        "df_bills_gov = df_all_bills.loc[df_all_bills[\"SubTypeDesc\"] == \"ממשלתית\"]\n",
        "print(\"Govermental bills: \", len(df_bills_gov))\n",
        "\n",
        "df_bills_private = df_all_bills.loc[df_all_bills[\"SubTypeDesc\"] == \"פרטית\"]\n",
        "print(\"Private bills: \", len(df_bills_private))"
      ]
    }
  ],
  "metadata": {
    "celltoolbar": "Raw Cell Format",
    "kernelspec": {
      "display_name": "Python 3",
      "language": "python",
      "name": "python3"
    },
    "language_info": {
      "codemirror_mode": {
        "name": "ipython",
        "version": 3
      },
      "file_extension": ".py",
      "mimetype": "text/x-python",
      "name": "python",
      "nbconvert_exporter": "python",
      "pygments_lexer": "ipython3",
      "version": "3.8.8"
    },
    "colab": {
      "name": "DataPreparation.ipynb",
      "provenance": [],
      "collapsed_sections": [],
      "include_colab_link": true
    }
  },
  "nbformat": 4,
  "nbformat_minor": 5
}